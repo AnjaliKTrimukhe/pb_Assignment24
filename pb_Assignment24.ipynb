{
 "cells": [
  {
   "cell_type": "raw",
   "id": "705ffa38",
   "metadata": {},
   "source": [
    "1.What is the relationship between def statements and lambda expressions ?\n",
    "Ans:\n",
    "The def defined functions do not return anything if not explicitly returned whereas the lambda function does return an object.\n",
    "The def functions must be declared in the namespace whereas the lambda functions can be used without any declaration in the namespace.\n",
    "Def Statement is to return an object from the function, return should be explicitly defined whereas in lambda function no need of using the return statement.\n",
    "Execution time is relatively slower for the same operation performed using lambda functions.\n"
   ]
  },
  {
   "cell_type": "raw",
   "id": "9fa9540b",
   "metadata": {},
   "source": [
    "2. What is the benefit of lambda?\n",
    "Ans:\n",
    "Lambda functions are single-expression functions that are not necessarily bound to a name (anonymous).\n",
    "Lambda functions can’t use regular Python statements and always include an implicit return statement.\n",
    "The lambda keyword provides a shortcut for declaring small anonymous functions. Lambda functions behave just like regular functions declared with the def keyword. They can be used whenever function objects are required."
   ]
  },
  {
   "cell_type": "raw",
   "id": "88813932",
   "metadata": {},
   "source": [
    "3. Compare and contrast map, filter, and reduce.\n",
    "Ans:\n",
    "Map:\n",
    "The map() function iterates through all items in the given iterable and executes the function we passed as an argument on each of them.\n",
    "The syntax is:\n",
    "map(function, iterable(s))\n",
    "\n",
    "Filter:\n",
    "As the name suggests, filter() forms a new list that contains only elements that satisfy a certain condition, i.e. the function we passed returns True.\n",
    "The syntax is:\n",
    "filter(function, iterable(s))\n",
    "\n",
    "Reduce:\n",
    "The reduce() works differently than map() and filter(). It does not return a new list based on the function and iterable we've passed. Instead, it returns a single value.\n",
    "The syntax is:\n",
    "reduce(function, sequence[, initial])"
   ]
  },
  {
   "cell_type": "raw",
   "id": "e1ef3583",
   "metadata": {},
   "source": [
    "4. What are function annotations, and how are they used?\n",
    "Ans:\n",
    "Function annotations introduced in Python 3.0 adds a feature that allows you to add arbitrary metadata to function parameters and return value. The primary purpose was to have a standard way to link metadata to function parameters and return value."
   ]
  },
  {
   "cell_type": "raw",
   "id": "2a812ec5",
   "metadata": {},
   "source": [
    "5. What are recursive functions, and how are they used?\n",
    "Ans:\n",
    "Recursion is a common mathematical and programming concept. It means that a function calls itself. This has the benefit of meaning that you can loop through data to reach a result.\n",
    "\n"
   ]
  },
  {
   "cell_type": "raw",
   "id": "2ab9014f",
   "metadata": {},
   "source": [
    "6. What are some general design guidelines for coding functions?\n",
    "Ans:\n",
    "1.Making it easy for others to read code is always a good idea, and adopting a nice coding style helps tremendously for that.\n",
    "2.Use docstrings \n",
    "3.Wrap lines so that they don’t exceed 79 characters \n",
    "4.Use of regular and updated comments are valuable to both the coders and users\n",
    "5.Naming Conventions"
   ]
  },
  {
   "cell_type": "raw",
   "id": "30f33de4",
   "metadata": {},
   "source": [
    "7. Name three or more ways that functions can communicate results to a caller.\n",
    "Ans:\n",
    "We call the distToPoint instance method within the Coordinates class by calling self. distToPoint . self is variable storing the current Coordinates class instance."
   ]
  }
 ],
 "metadata": {
  "kernelspec": {
   "display_name": "Python 3 (ipykernel)",
   "language": "python",
   "name": "python3"
  },
  "language_info": {
   "codemirror_mode": {
    "name": "ipython",
    "version": 3
   },
   "file_extension": ".py",
   "mimetype": "text/x-python",
   "name": "python",
   "nbconvert_exporter": "python",
   "pygments_lexer": "ipython3",
   "version": "3.9.7"
  }
 },
 "nbformat": 4,
 "nbformat_minor": 5
}
